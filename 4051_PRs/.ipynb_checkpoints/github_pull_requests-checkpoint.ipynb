{
 "cells": [
  {
   "cell_type": "code",
   "execution_count": 1,
   "metadata": {},
   "outputs": [],
   "source": [
    "import requests\n",
    "import pandas as pd"
   ]
  },
  {
   "cell_type": "markdown",
   "metadata": {},
   "source": [
    "## Authentication details"
   ]
  },
  {
   "cell_type": "code",
   "execution_count": 2,
   "metadata": {},
   "outputs": [],
   "source": [
    "with open('C:/Users/timlx/Desktop/GH_Token.txt', 'r') as file:\n",
    "    github_token = file.read()\n",
    "github_auth_token = {'Authorization': 'token %s' % github_token}"
   ]
  },
  {
   "cell_type": "markdown",
   "metadata": {},
   "source": [
    "## Get Data Function"
   ]
  },
  {
   "cell_type": "code",
   "execution_count": 3,
   "metadata": {},
   "outputs": [],
   "source": [
    "def get_gh_pulls(user, repo_name):\n",
    "    url = 'https://api.github.com/repos/%s/%s/pulls' %(user, repo_name)\n",
    "    r = requests.get(url, headers = github_auth_token)\n",
    "    raw_data = r.json()\n",
    "    pr_number = list(map(lambda x: x['number'], raw_data))\n",
    "    pr_creator = list(map(lambda x: x['user']['login'], raw_data))\n",
    "    pr_created_ts = list(map(lambda x: x['created_at'], raw_data))\n",
    "    pr_title = list(map(lambda x: x['title'], raw_data))\n",
    "    pr_message = list(map(lambda x: x['body'], raw_data))\n",
    "    \n",
    "    pr_df = pd.DataFrame({'pr_number': pr_number,\n",
    "                          'pr_creator': pr_creator,\n",
    "                          'pr_created_ts': pr_created_ts,\n",
    "                          'pr_title': pr_title,\n",
    "                          'pr_message': pr_message})\\\n",
    "    .sort_values('pr_number')\n",
    "    return(pr_df)"
   ]
  },
  {
   "cell_type": "markdown",
   "metadata": {},
   "source": [
    "## Get Data"
   ]
  },
  {
   "cell_type": "code",
   "execution_count": 4,
   "metadata": {},
   "outputs": [],
   "source": [
    "user = 'la-process-and-theory'\n",
    "\n",
    "interactive_viz = get_gh_pulls(user, 'interactive-visualization')\n",
    "social_network_analysis = get_gh_pulls(user, 'social-network-analysis')"
   ]
  },
  {
   "cell_type": "code",
   "execution_count": 5,
   "metadata": {},
   "outputs": [
    {
     "data": {
      "text/html": [
       "<div>\n",
       "<style scoped>\n",
       "    .dataframe tbody tr th:only-of-type {\n",
       "        vertical-align: middle;\n",
       "    }\n",
       "\n",
       "    .dataframe tbody tr th {\n",
       "        vertical-align: top;\n",
       "    }\n",
       "\n",
       "    .dataframe thead th {\n",
       "        text-align: right;\n",
       "    }\n",
       "</style>\n",
       "<table border=\"1\" class=\"dataframe\">\n",
       "  <thead>\n",
       "    <tr style=\"text-align: right;\">\n",
       "      <th></th>\n",
       "      <th>pr_number</th>\n",
       "      <th>pr_creator</th>\n",
       "      <th>pr_created_ts</th>\n",
       "      <th>pr_title</th>\n",
       "      <th>pr_message</th>\n",
       "    </tr>\n",
       "  </thead>\n",
       "  <tbody>\n",
       "    <tr>\n",
       "      <td>29</td>\n",
       "      <td>70</td>\n",
       "      <td>sj2562</td>\n",
       "      <td>2020-04-20T06:03:23Z</td>\n",
       "      <td>Interactive Visualizations</td>\n",
       "      <td></td>\n",
       "    </tr>\n",
       "    <tr>\n",
       "      <td>28</td>\n",
       "      <td>71</td>\n",
       "      <td>Zifan96</td>\n",
       "      <td>2020-04-20T07:28:15Z</td>\n",
       "      <td>interactive visual</td>\n",
       "      <td></td>\n",
       "    </tr>\n",
       "    <tr>\n",
       "      <td>27</td>\n",
       "      <td>72</td>\n",
       "      <td>xinxinxin111</td>\n",
       "      <td>2020-04-20T23:38:32Z</td>\n",
       "      <td>run preprocess first and then run server + ui</td>\n",
       "      <td>assignment done yeah</td>\n",
       "    </tr>\n",
       "    <tr>\n",
       "      <td>26</td>\n",
       "      <td>73</td>\n",
       "      <td>jackshen1998</td>\n",
       "      <td>2020-04-21T01:16:23Z</td>\n",
       "      <td>Jack viz done</td>\n",
       "      <td></td>\n",
       "    </tr>\n",
       "    <tr>\n",
       "      <td>25</td>\n",
       "      <td>74</td>\n",
       "      <td>s275</td>\n",
       "      <td>2020-04-27T03:06:47Z</td>\n",
       "      <td>Done❤</td>\n",
       "      <td>Ziyuan \\r\\nUnit No.5</td>\n",
       "    </tr>\n",
       "  </tbody>\n",
       "</table>\n",
       "</div>"
      ],
      "text/plain": [
       "    pr_number    pr_creator         pr_created_ts  \\\n",
       "29         70        sj2562  2020-04-20T06:03:23Z   \n",
       "28         71       Zifan96  2020-04-20T07:28:15Z   \n",
       "27         72  xinxinxin111  2020-04-20T23:38:32Z   \n",
       "26         73  jackshen1998  2020-04-21T01:16:23Z   \n",
       "25         74          s275  2020-04-27T03:06:47Z   \n",
       "\n",
       "                                         pr_title            pr_message  \n",
       "29                     Interactive Visualizations                        \n",
       "28                             interactive visual                        \n",
       "27  run preprocess first and then run server + ui  assignment done yeah  \n",
       "26                                  Jack viz done                        \n",
       "25                                          Done❤  Ziyuan \\r\\nUnit No.5  "
      ]
     },
     "metadata": {},
     "output_type": "display_data"
    },
    {
     "data": {
      "text/html": [
       "<div>\n",
       "<style scoped>\n",
       "    .dataframe tbody tr th:only-of-type {\n",
       "        vertical-align: middle;\n",
       "    }\n",
       "\n",
       "    .dataframe tbody tr th {\n",
       "        vertical-align: top;\n",
       "    }\n",
       "\n",
       "    .dataframe thead th {\n",
       "        text-align: right;\n",
       "    }\n",
       "</style>\n",
       "<table border=\"1\" class=\"dataframe\">\n",
       "  <thead>\n",
       "    <tr style=\"text-align: right;\">\n",
       "      <th></th>\n",
       "      <th>pr_number</th>\n",
       "      <th>pr_creator</th>\n",
       "      <th>pr_created_ts</th>\n",
       "      <th>pr_title</th>\n",
       "      <th>pr_message</th>\n",
       "    </tr>\n",
       "  </thead>\n",
       "  <tbody>\n",
       "    <tr>\n",
       "      <td>29</td>\n",
       "      <td>68</td>\n",
       "      <td>leona-joo</td>\n",
       "      <td>2020-04-14T01:20:29Z</td>\n",
       "      <td>Yixuan Zhu Assignment done</td>\n",
       "      <td>not sure if pdf is working</td>\n",
       "    </tr>\n",
       "    <tr>\n",
       "      <td>28</td>\n",
       "      <td>69</td>\n",
       "      <td>ad3671</td>\n",
       "      <td>2020-04-18T16:57:45Z</td>\n",
       "      <td>Social Network Analysis On 7th Grade Students</td>\n",
       "      <td>thank you</td>\n",
       "    </tr>\n",
       "    <tr>\n",
       "      <td>27</td>\n",
       "      <td>70</td>\n",
       "      <td>s275</td>\n",
       "      <td>2020-04-20T18:49:45Z</td>\n",
       "      <td>Done❤</td>\n",
       "      <td>Ziyuan Guo\\r\\nUnit No.4</td>\n",
       "    </tr>\n",
       "    <tr>\n",
       "      <td>26</td>\n",
       "      <td>71</td>\n",
       "      <td>jackiessshao</td>\n",
       "      <td>2020-04-20T21:57:49Z</td>\n",
       "      <td>work</td>\n",
       "      <td></td>\n",
       "    </tr>\n",
       "    <tr>\n",
       "      <td>25</td>\n",
       "      <td>72</td>\n",
       "      <td>luyidai</td>\n",
       "      <td>2020-04-21T21:18:32Z</td>\n",
       "      <td>SNA-Luyi Dai</td>\n",
       "      <td></td>\n",
       "    </tr>\n",
       "  </tbody>\n",
       "</table>\n",
       "</div>"
      ],
      "text/plain": [
       "    pr_number    pr_creator         pr_created_ts  \\\n",
       "29         68     leona-joo  2020-04-14T01:20:29Z   \n",
       "28         69        ad3671  2020-04-18T16:57:45Z   \n",
       "27         70          s275  2020-04-20T18:49:45Z   \n",
       "26         71  jackiessshao  2020-04-20T21:57:49Z   \n",
       "25         72       luyidai  2020-04-21T21:18:32Z   \n",
       "\n",
       "                                         pr_title                  pr_message  \n",
       "29                     Yixuan Zhu Assignment done  not sure if pdf is working  \n",
       "28  Social Network Analysis On 7th Grade Students                   thank you  \n",
       "27                                          Done❤     Ziyuan Guo\\r\\nUnit No.4  \n",
       "26                                           work                              \n",
       "25                                   SNA-Luyi Dai                              "
      ]
     },
     "metadata": {},
     "output_type": "display_data"
    },
    {
     "data": {
      "text/plain": [
       "30"
      ]
     },
     "metadata": {},
     "output_type": "display_data"
    },
    {
     "data": {
      "text/plain": [
       "30"
      ]
     },
     "metadata": {},
     "output_type": "display_data"
    }
   ],
   "source": [
    "display(interactive_viz.head())\n",
    "display(social_network_analysis.head())\n",
    "display(len(interactive_viz)) #Unfortunately the Api only gives us 30 of the most recent PRs\n",
    "display(len(social_network_analysis))"
   ]
  },
  {
   "cell_type": "markdown",
   "metadata": {},
   "source": [
    "## Write to CSV"
   ]
  },
  {
   "cell_type": "code",
   "execution_count": 6,
   "metadata": {},
   "outputs": [],
   "source": [
    "interactive_viz.to_csv('interactive_viz.csv', index = False)\n",
    "social_network_analysis.to_csv('social_network_analysis.csv', index = False)"
   ]
  }
 ],
 "metadata": {
  "kernelspec": {
   "display_name": "Python 3",
   "language": "python",
   "name": "python3"
  },
  "language_info": {
   "codemirror_mode": {
    "name": "ipython",
    "version": 3
   },
   "file_extension": ".py",
   "mimetype": "text/x-python",
   "name": "python",
   "nbconvert_exporter": "python",
   "pygments_lexer": "ipython3",
   "version": "3.7.4"
  }
 },
 "nbformat": 4,
 "nbformat_minor": 2
}
